{
 "cells": [
  {
   "cell_type": "markdown",
   "metadata": {},
   "source": [
    "# Ejercicio de probabilidad jugando con MTCars\n",
    "#### Se realiza un sorteo de 10 automóviles presentes en la concesionaria. \n",
    "#### Hay 10 autos solo para un ganador"
   ]
  },
  {
   "cell_type": "markdown",
   "metadata": {},
   "source": [
    "#### Probabilidades: \n",
    "\n",
    "1. ¿Qué probabilidad hay que al ganador le toque un auto de 6 cilindros? \n",
    "2. ¿Qué probabilidad hay que al ganador le toque un auto de más de 240 caballos de fuerza? \n",
    "3. ¿Qué probabilidad hay que al ganador le toque un Mercedes Benz? "
   ]
  },
  {
   "cell_type": "code",
   "execution_count": 7,
   "metadata": {},
   "outputs": [],
   "source": [
    "#Importamos las librerias correspondientes para nuestro analisis\n",
    "\n",
    "import pandas as pd\n",
    "import numpy as np\n",
    "import seaborn as sns"
   ]
  },
  {
   "cell_type": "code",
   "execution_count": 2,
   "metadata": {},
   "outputs": [],
   "source": [
    "#Leemos nuestro base \n",
    "cars = pd.read_csv('mtcars.csv')"
   ]
  },
  {
   "cell_type": "code",
   "execution_count": 3,
   "metadata": {},
   "outputs": [
    {
     "data": {
      "text/html": [
       "<div>\n",
       "<style scoped>\n",
       "    .dataframe tbody tr th:only-of-type {\n",
       "        vertical-align: middle;\n",
       "    }\n",
       "\n",
       "    .dataframe tbody tr th {\n",
       "        vertical-align: top;\n",
       "    }\n",
       "\n",
       "    .dataframe thead th {\n",
       "        text-align: right;\n",
       "    }\n",
       "</style>\n",
       "<table border=\"1\" class=\"dataframe\">\n",
       "  <thead>\n",
       "    <tr style=\"text-align: right;\">\n",
       "      <th></th>\n",
       "      <th>Model</th>\n",
       "      <th>MPG</th>\n",
       "      <th>Cylinders</th>\n",
       "      <th>Displacement</th>\n",
       "      <th>Horsepower</th>\n",
       "      <th>Rear_Axle_Ratio</th>\n",
       "      <th>Weight (000)</th>\n",
       "      <th>Qtr_Mile_Time</th>\n",
       "      <th>Engine_Shape</th>\n",
       "      <th>Transmission</th>\n",
       "      <th>Fwd_Gears</th>\n",
       "      <th>Carburators</th>\n",
       "    </tr>\n",
       "  </thead>\n",
       "  <tbody>\n",
       "    <tr>\n",
       "      <th>0</th>\n",
       "      <td>Mazda RX4</td>\n",
       "      <td>21.0</td>\n",
       "      <td>6</td>\n",
       "      <td>160.0</td>\n",
       "      <td>110</td>\n",
       "      <td>3.90</td>\n",
       "      <td>2.620</td>\n",
       "      <td>16.46</td>\n",
       "      <td>0</td>\n",
       "      <td>1</td>\n",
       "      <td>4</td>\n",
       "      <td>4</td>\n",
       "    </tr>\n",
       "    <tr>\n",
       "      <th>1</th>\n",
       "      <td>Mazda RX4 Wag</td>\n",
       "      <td>21.0</td>\n",
       "      <td>6</td>\n",
       "      <td>160.0</td>\n",
       "      <td>110</td>\n",
       "      <td>3.90</td>\n",
       "      <td>2.875</td>\n",
       "      <td>17.02</td>\n",
       "      <td>0</td>\n",
       "      <td>1</td>\n",
       "      <td>4</td>\n",
       "      <td>4</td>\n",
       "    </tr>\n",
       "    <tr>\n",
       "      <th>2</th>\n",
       "      <td>Datsun 710</td>\n",
       "      <td>22.8</td>\n",
       "      <td>4</td>\n",
       "      <td>108.0</td>\n",
       "      <td>93</td>\n",
       "      <td>3.85</td>\n",
       "      <td>2.320</td>\n",
       "      <td>18.61</td>\n",
       "      <td>1</td>\n",
       "      <td>1</td>\n",
       "      <td>4</td>\n",
       "      <td>1</td>\n",
       "    </tr>\n",
       "    <tr>\n",
       "      <th>3</th>\n",
       "      <td>Hornet 4 Drive</td>\n",
       "      <td>21.4</td>\n",
       "      <td>6</td>\n",
       "      <td>258.0</td>\n",
       "      <td>110</td>\n",
       "      <td>3.08</td>\n",
       "      <td>3.215</td>\n",
       "      <td>19.44</td>\n",
       "      <td>1</td>\n",
       "      <td>0</td>\n",
       "      <td>3</td>\n",
       "      <td>1</td>\n",
       "    </tr>\n",
       "    <tr>\n",
       "      <th>4</th>\n",
       "      <td>Hornet Sportabout</td>\n",
       "      <td>18.7</td>\n",
       "      <td>8</td>\n",
       "      <td>360.0</td>\n",
       "      <td>175</td>\n",
       "      <td>3.15</td>\n",
       "      <td>3.440</td>\n",
       "      <td>17.02</td>\n",
       "      <td>0</td>\n",
       "      <td>0</td>\n",
       "      <td>3</td>\n",
       "      <td>2</td>\n",
       "    </tr>\n",
       "  </tbody>\n",
       "</table>\n",
       "</div>"
      ],
      "text/plain": [
       "               Model   MPG  Cylinders  Displacement  Horsepower  \\\n",
       "0          Mazda RX4  21.0          6         160.0         110   \n",
       "1      Mazda RX4 Wag  21.0          6         160.0         110   \n",
       "2         Datsun 710  22.8          4         108.0          93   \n",
       "3     Hornet 4 Drive  21.4          6         258.0         110   \n",
       "4  Hornet Sportabout  18.7          8         360.0         175   \n",
       "\n",
       "   Rear_Axle_Ratio  Weight (000)  Qtr_Mile_Time  Engine_Shape  Transmission  \\\n",
       "0             3.90         2.620          16.46             0             1   \n",
       "1             3.90         2.875          17.02             0             1   \n",
       "2             3.85         2.320          18.61             1             1   \n",
       "3             3.08         3.215          19.44             1             0   \n",
       "4             3.15         3.440          17.02             0             0   \n",
       "\n",
       "   Fwd_Gears  Carburators  \n",
       "0          4            4  \n",
       "1          4            4  \n",
       "2          4            1  \n",
       "3          3            1  \n",
       "4          3            2  "
      ]
     },
     "execution_count": 3,
     "metadata": {},
     "output_type": "execute_result"
    }
   ],
   "source": [
    "#Imprimimos los primeros resultados de nuestra base de autos presentes en la concesionaria \n",
    "cars.head()"
   ]
  },
  {
   "cell_type": "code",
   "execution_count": 4,
   "metadata": {},
   "outputs": [
    {
     "data": {
      "text/html": [
       "<div>\n",
       "<style scoped>\n",
       "    .dataframe tbody tr th:only-of-type {\n",
       "        vertical-align: middle;\n",
       "    }\n",
       "\n",
       "    .dataframe tbody tr th {\n",
       "        vertical-align: top;\n",
       "    }\n",
       "\n",
       "    .dataframe thead th {\n",
       "        text-align: right;\n",
       "    }\n",
       "</style>\n",
       "<table border=\"1\" class=\"dataframe\">\n",
       "  <thead>\n",
       "    <tr style=\"text-align: right;\">\n",
       "      <th></th>\n",
       "      <th>Model</th>\n",
       "      <th>MPG</th>\n",
       "      <th>Cylinders</th>\n",
       "      <th>Displacement</th>\n",
       "      <th>Horsepower</th>\n",
       "      <th>Rear_Axle_Ratio</th>\n",
       "      <th>Weight (000)</th>\n",
       "      <th>Qtr_Mile_Time</th>\n",
       "      <th>Engine_Shape</th>\n",
       "      <th>Transmission</th>\n",
       "      <th>Fwd_Gears</th>\n",
       "      <th>Carburators</th>\n",
       "    </tr>\n",
       "  </thead>\n",
       "  <tbody>\n",
       "    <tr>\n",
       "      <th>27</th>\n",
       "      <td>Lotus Europa</td>\n",
       "      <td>30.4</td>\n",
       "      <td>4</td>\n",
       "      <td>95.1</td>\n",
       "      <td>113</td>\n",
       "      <td>3.77</td>\n",
       "      <td>1.513</td>\n",
       "      <td>16.9</td>\n",
       "      <td>1</td>\n",
       "      <td>1</td>\n",
       "      <td>5</td>\n",
       "      <td>2</td>\n",
       "    </tr>\n",
       "    <tr>\n",
       "      <th>28</th>\n",
       "      <td>Ford Pantera L</td>\n",
       "      <td>15.8</td>\n",
       "      <td>8</td>\n",
       "      <td>351.0</td>\n",
       "      <td>264</td>\n",
       "      <td>4.22</td>\n",
       "      <td>3.170</td>\n",
       "      <td>14.5</td>\n",
       "      <td>0</td>\n",
       "      <td>1</td>\n",
       "      <td>5</td>\n",
       "      <td>4</td>\n",
       "    </tr>\n",
       "    <tr>\n",
       "      <th>29</th>\n",
       "      <td>Ferrari Dino</td>\n",
       "      <td>19.7</td>\n",
       "      <td>6</td>\n",
       "      <td>145.0</td>\n",
       "      <td>175</td>\n",
       "      <td>3.62</td>\n",
       "      <td>2.770</td>\n",
       "      <td>15.5</td>\n",
       "      <td>0</td>\n",
       "      <td>1</td>\n",
       "      <td>5</td>\n",
       "      <td>6</td>\n",
       "    </tr>\n",
       "    <tr>\n",
       "      <th>30</th>\n",
       "      <td>Maserati Bora</td>\n",
       "      <td>15.0</td>\n",
       "      <td>8</td>\n",
       "      <td>301.0</td>\n",
       "      <td>335</td>\n",
       "      <td>3.54</td>\n",
       "      <td>3.570</td>\n",
       "      <td>14.6</td>\n",
       "      <td>0</td>\n",
       "      <td>1</td>\n",
       "      <td>5</td>\n",
       "      <td>8</td>\n",
       "    </tr>\n",
       "    <tr>\n",
       "      <th>31</th>\n",
       "      <td>Volvo 142E</td>\n",
       "      <td>21.4</td>\n",
       "      <td>4</td>\n",
       "      <td>121.0</td>\n",
       "      <td>109</td>\n",
       "      <td>4.11</td>\n",
       "      <td>2.780</td>\n",
       "      <td>18.6</td>\n",
       "      <td>1</td>\n",
       "      <td>1</td>\n",
       "      <td>4</td>\n",
       "      <td>2</td>\n",
       "    </tr>\n",
       "  </tbody>\n",
       "</table>\n",
       "</div>"
      ],
      "text/plain": [
       "             Model   MPG  Cylinders  Displacement  Horsepower  \\\n",
       "27    Lotus Europa  30.4          4          95.1         113   \n",
       "28  Ford Pantera L  15.8          8         351.0         264   \n",
       "29    Ferrari Dino  19.7          6         145.0         175   \n",
       "30   Maserati Bora  15.0          8         301.0         335   \n",
       "31      Volvo 142E  21.4          4         121.0         109   \n",
       "\n",
       "    Rear_Axle_Ratio  Weight (000)  Qtr_Mile_Time  Engine_Shape  Transmission  \\\n",
       "27             3.77         1.513           16.9             1             1   \n",
       "28             4.22         3.170           14.5             0             1   \n",
       "29             3.62         2.770           15.5             0             1   \n",
       "30             3.54         3.570           14.6             0             1   \n",
       "31             4.11         2.780           18.6             1             1   \n",
       "\n",
       "    Fwd_Gears  Carburators  \n",
       "27          5            2  \n",
       "28          5            4  \n",
       "29          5            6  \n",
       "30          5            8  \n",
       "31          4            2  "
      ]
     },
     "execution_count": 4,
     "metadata": {},
     "output_type": "execute_result"
    }
   ],
   "source": [
    "#Imprimimos los ultimos resultados \n",
    "\n",
    "cars.tail()"
   ]
  },
  {
   "cell_type": "markdown",
   "metadata": {},
   "source": [
    "Como podemos observar, tenemos una cantidad de columnas significativas de muchas marcas de automóviles con distintas cualidades que los hacen únicos frente a otros. "
   ]
  },
  {
   "cell_type": "code",
   "execution_count": 5,
   "metadata": {},
   "outputs": [
    {
     "data": {
      "text/html": [
       "<div>\n",
       "<style scoped>\n",
       "    .dataframe tbody tr th:only-of-type {\n",
       "        vertical-align: middle;\n",
       "    }\n",
       "\n",
       "    .dataframe tbody tr th {\n",
       "        vertical-align: top;\n",
       "    }\n",
       "\n",
       "    .dataframe thead th {\n",
       "        text-align: right;\n",
       "    }\n",
       "</style>\n",
       "<table border=\"1\" class=\"dataframe\">\n",
       "  <thead>\n",
       "    <tr style=\"text-align: right;\">\n",
       "      <th></th>\n",
       "      <th>MPG</th>\n",
       "      <th>Cylinders</th>\n",
       "      <th>Displacement</th>\n",
       "      <th>Horsepower</th>\n",
       "      <th>Rear_Axle_Ratio</th>\n",
       "      <th>Weight (000)</th>\n",
       "      <th>Qtr_Mile_Time</th>\n",
       "      <th>Engine_Shape</th>\n",
       "      <th>Transmission</th>\n",
       "      <th>Fwd_Gears</th>\n",
       "      <th>Carburators</th>\n",
       "    </tr>\n",
       "  </thead>\n",
       "  <tbody>\n",
       "    <tr>\n",
       "      <th>count</th>\n",
       "      <td>32.000000</td>\n",
       "      <td>32.000000</td>\n",
       "      <td>32.000000</td>\n",
       "      <td>32.000000</td>\n",
       "      <td>32.000000</td>\n",
       "      <td>32.000000</td>\n",
       "      <td>32.000000</td>\n",
       "      <td>32.000000</td>\n",
       "      <td>32.000000</td>\n",
       "      <td>32.000000</td>\n",
       "      <td>32.0000</td>\n",
       "    </tr>\n",
       "    <tr>\n",
       "      <th>mean</th>\n",
       "      <td>20.090625</td>\n",
       "      <td>6.187500</td>\n",
       "      <td>230.721875</td>\n",
       "      <td>146.687500</td>\n",
       "      <td>3.596563</td>\n",
       "      <td>3.217250</td>\n",
       "      <td>17.848750</td>\n",
       "      <td>0.437500</td>\n",
       "      <td>0.406250</td>\n",
       "      <td>3.687500</td>\n",
       "      <td>2.8125</td>\n",
       "    </tr>\n",
       "    <tr>\n",
       "      <th>std</th>\n",
       "      <td>6.026948</td>\n",
       "      <td>1.785922</td>\n",
       "      <td>123.938694</td>\n",
       "      <td>68.562868</td>\n",
       "      <td>0.534679</td>\n",
       "      <td>0.978457</td>\n",
       "      <td>1.786943</td>\n",
       "      <td>0.504016</td>\n",
       "      <td>0.498991</td>\n",
       "      <td>0.737804</td>\n",
       "      <td>1.6152</td>\n",
       "    </tr>\n",
       "    <tr>\n",
       "      <th>min</th>\n",
       "      <td>10.400000</td>\n",
       "      <td>4.000000</td>\n",
       "      <td>71.100000</td>\n",
       "      <td>52.000000</td>\n",
       "      <td>2.760000</td>\n",
       "      <td>1.513000</td>\n",
       "      <td>14.500000</td>\n",
       "      <td>0.000000</td>\n",
       "      <td>0.000000</td>\n",
       "      <td>3.000000</td>\n",
       "      <td>1.0000</td>\n",
       "    </tr>\n",
       "    <tr>\n",
       "      <th>25%</th>\n",
       "      <td>15.425000</td>\n",
       "      <td>4.000000</td>\n",
       "      <td>120.825000</td>\n",
       "      <td>96.500000</td>\n",
       "      <td>3.080000</td>\n",
       "      <td>2.581250</td>\n",
       "      <td>16.892500</td>\n",
       "      <td>0.000000</td>\n",
       "      <td>0.000000</td>\n",
       "      <td>3.000000</td>\n",
       "      <td>2.0000</td>\n",
       "    </tr>\n",
       "    <tr>\n",
       "      <th>50%</th>\n",
       "      <td>19.200000</td>\n",
       "      <td>6.000000</td>\n",
       "      <td>196.300000</td>\n",
       "      <td>123.000000</td>\n",
       "      <td>3.695000</td>\n",
       "      <td>3.325000</td>\n",
       "      <td>17.710000</td>\n",
       "      <td>0.000000</td>\n",
       "      <td>0.000000</td>\n",
       "      <td>4.000000</td>\n",
       "      <td>2.0000</td>\n",
       "    </tr>\n",
       "    <tr>\n",
       "      <th>75%</th>\n",
       "      <td>22.800000</td>\n",
       "      <td>8.000000</td>\n",
       "      <td>326.000000</td>\n",
       "      <td>180.000000</td>\n",
       "      <td>3.920000</td>\n",
       "      <td>3.610000</td>\n",
       "      <td>18.900000</td>\n",
       "      <td>1.000000</td>\n",
       "      <td>1.000000</td>\n",
       "      <td>4.000000</td>\n",
       "      <td>4.0000</td>\n",
       "    </tr>\n",
       "    <tr>\n",
       "      <th>max</th>\n",
       "      <td>33.900000</td>\n",
       "      <td>8.000000</td>\n",
       "      <td>472.000000</td>\n",
       "      <td>335.000000</td>\n",
       "      <td>4.930000</td>\n",
       "      <td>5.424000</td>\n",
       "      <td>22.900000</td>\n",
       "      <td>1.000000</td>\n",
       "      <td>1.000000</td>\n",
       "      <td>5.000000</td>\n",
       "      <td>8.0000</td>\n",
       "    </tr>\n",
       "  </tbody>\n",
       "</table>\n",
       "</div>"
      ],
      "text/plain": [
       "             MPG  Cylinders  Displacement  Horsepower  Rear_Axle_Ratio  \\\n",
       "count  32.000000  32.000000     32.000000   32.000000        32.000000   \n",
       "mean   20.090625   6.187500    230.721875  146.687500         3.596563   \n",
       "std     6.026948   1.785922    123.938694   68.562868         0.534679   \n",
       "min    10.400000   4.000000     71.100000   52.000000         2.760000   \n",
       "25%    15.425000   4.000000    120.825000   96.500000         3.080000   \n",
       "50%    19.200000   6.000000    196.300000  123.000000         3.695000   \n",
       "75%    22.800000   8.000000    326.000000  180.000000         3.920000   \n",
       "max    33.900000   8.000000    472.000000  335.000000         4.930000   \n",
       "\n",
       "       Weight (000)  Qtr_Mile_Time  Engine_Shape  Transmission  Fwd_Gears  \\\n",
       "count     32.000000      32.000000     32.000000     32.000000  32.000000   \n",
       "mean       3.217250      17.848750      0.437500      0.406250   3.687500   \n",
       "std        0.978457       1.786943      0.504016      0.498991   0.737804   \n",
       "min        1.513000      14.500000      0.000000      0.000000   3.000000   \n",
       "25%        2.581250      16.892500      0.000000      0.000000   3.000000   \n",
       "50%        3.325000      17.710000      0.000000      0.000000   4.000000   \n",
       "75%        3.610000      18.900000      1.000000      1.000000   4.000000   \n",
       "max        5.424000      22.900000      1.000000      1.000000   5.000000   \n",
       "\n",
       "       Carburators  \n",
       "count      32.0000  \n",
       "mean        2.8125  \n",
       "std         1.6152  \n",
       "min         1.0000  \n",
       "25%         2.0000  \n",
       "50%         2.0000  \n",
       "75%         4.0000  \n",
       "max         8.0000  "
      ]
     },
     "execution_count": 5,
     "metadata": {},
     "output_type": "execute_result"
    }
   ],
   "source": [
    "cars.describe()"
   ]
  },
  {
   "cell_type": "code",
   "execution_count": 13,
   "metadata": {},
   "outputs": [
    {
     "data": {
      "text/plain": [
       "<matplotlib.axes._subplots.AxesSubplot at 0x121f2ab70>"
      ]
     },
     "execution_count": 13,
     "metadata": {},
     "output_type": "execute_result"
    },
    {
     "data": {
      "image/png": "[encoded data removed]",
      "text/plain": [
       "<Figure size 432x288 with 1 Axes>"
      ]
     },
     "metadata": {
      "needs_background": "light"
     },
     "output_type": "display_data"
    }
   ],
   "source": [
    "#MPG\n",
    "\n",
    "sns.distplot(cars['MPG'], color = \"green\")"
   ]
  },
  {
   "cell_type": "markdown",
   "metadata": {},
   "source": [
    "Podemos observar una distribución asimétrica que intenta asemejarse a una distribución normal. Los valores de MPG se concentran entre los 10 y 35 "
   ]
  },
  {
   "cell_type": "code",
   "execution_count": 12,
   "metadata": {},
   "outputs": [
    {
     "data": {
      "text/plain": [
       "<matplotlib.axes._subplots.AxesSubplot at 0x1234202b0>"
      ]
     },
     "execution_count": 12,
     "metadata": {},
     "output_type": "execute_result"
    },
    {
     "data": {
      "image/png": "[encoded data removed]",
      "text/plain": [
       "<Figure size 432x288 with 1 Axes>"
      ]
     },
     "metadata": {
      "needs_background": "light"
     },
     "output_type": "display_data"
    }
   ],
   "source": [
    "sns.distplot(cars['Cylinders'], color = \"red\")"
   ]
  },
  {
   "cell_type": "markdown",
   "metadata": {},
   "source": [
    "Esta intenta asemejarse a una distribución uniforme. Los valores se concentran entre los 4 a 8 cilindros"
   ]
  },
  {
   "cell_type": "code",
   "execution_count": 14,
   "metadata": {},
   "outputs": [
    {
     "data": {
      "text/plain": [
       "<matplotlib.axes._subplots.AxesSubplot at 0x123823c18>"
      ]
     },
     "execution_count": 14,
     "metadata": {},
     "output_type": "execute_result"
    },
    {
     "data": {
      "image/png": "[encoded data removed]",
      "text/plain": [
       "<Figure size 432x288 with 1 Axes>"
      ]
     },
     "metadata": {
      "needs_background": "light"
     },
     "output_type": "display_data"
    }
   ],
   "source": [
    "sns.distplot(cars['Horsepower'], color = \"grey\")"
   ]
  },
  {
   "cell_type": "markdown",
   "metadata": {},
   "source": [
    "Los valores se concentran entre los 90 hasta los 300 caballos de fuerza. "
   ]
  },
  {
   "cell_type": "markdown",
   "metadata": {},
   "source": [
    "#### <font color= \"red\">Probabilidad 1"
   ]
  },
  {
   "cell_type": "code",
   "execution_count": 45,
   "metadata": {},
   "outputs": [
    {
     "name": "stdout",
     "output_type": "stream",
     "text": [
      "La probabilidad de que gane un auto de seis cilindros es de 21.88%\n"
     ]
    }
   ],
   "source": [
    "#Vamos a guardar en una variable con formato lista todo nuestro dataset relacionado a Cylinders para tomar \n",
    "#cada valor del mismo y así poder obtener la probabilidad\n",
    "\n",
    "cilindros = list(cars['Cylinders'])\n",
    "\n",
    "#Creamos una funcion que confirme y devuelva la condicion \n",
    "\n",
    "def probability(x):\n",
    "    return (x / 6 == 1)\n",
    "\n",
    "#Creamos una nueva lista con el recorrido de Cylindros y almacenamos solo la cantidad de datos que obtiene \n",
    "#mediante la funcion\n",
    "#Usamos list comprehension\n",
    "\n",
    "cilindros_6 = len([x for x in cilindros if probability(x)])\n",
    "\n",
    "#Dividimos las probabilidades\n",
    "\n",
    "proba_6 = cilindros_6 / len(cilindros)\n",
    "\n",
    "#Imprimimos\n",
    "\n",
    "print(\"La probabilidad de que gane un auto de seis cilindros es de \"+ '{0:.2%}'.format(proba_6))"
   ]
  },
  {
   "cell_type": "markdown",
   "metadata": {},
   "source": [
    "#### <font color=red>Probabilidad 2"
   ]
  },
  {
   "cell_type": "code",
   "execution_count": 44,
   "metadata": {},
   "outputs": [
    {
     "name": "stdout",
     "output_type": "stream",
     "text": [
      "La probabilidad de que gane un auto con más de 240 caballos de fuerza es de 12.50%\n"
     ]
    }
   ],
   "source": [
    "#Vamos a guardar en una variable con formato lista todo nuestro dataset relacionado a Caballos de fuerza para tomar \n",
    "#cada valor del mismo y así poder obtener la probabilidad\n",
    "\n",
    "caballos_fuerza = list(cars['Horsepower'])\n",
    "\n",
    "#Creamos una funcion que confirme y devuelva la condicion \n",
    "\n",
    "def probability(x):\n",
    "    return (x > 240)\n",
    "\n",
    "#Creamos una nueva lista que va a obtener las condiciones cumplidas de un recorrido a la lista principal\n",
    "#mediante la funcion\n",
    "#Usamos list comprehension\n",
    "\n",
    "caballos_240 = len([x for x in caballos_fuerza if probability(x)])\n",
    "\n",
    "#Dividimos las probabilidades\n",
    "\n",
    "proba_240 = caballos_240 / len(caballos_fuerza)\n",
    "\n",
    "#Imprimimos\n",
    "\n",
    "print(\"La probabilidad de que gane un auto con más de 240 caballos de fuerza es de \"+ '{0:.2%}'.format(proba_240))"
   ]
  },
  {
   "cell_type": "markdown",
   "metadata": {},
   "source": [
    "#### <font color= red>Probabilidad 3"
   ]
  },
  {
   "cell_type": "code",
   "execution_count": 77,
   "metadata": {},
   "outputs": [
    {
     "name": "stdout",
     "output_type": "stream",
     "text": [
      "La probabilidad de que gane un auto con más de 240 caballos de fuerza es de 21.88%\n"
     ]
    }
   ],
   "source": [
    "#Vamos a guardar en una variable con formato lista todo nuestro dataset relacionado a marcas de automoviles para tomar \n",
    "#cada valor del mismo y así poder obtener la probabilidad\n",
    "\n",
    "marcas = list(cars['Model'])\n",
    "\n",
    "#Con una list comprehension cargamos una lista con la busqueda de string pertinente a modelos Mercedes Benz\n",
    "mercedes = [s for s in marcas if \"Merc\" in s]\n",
    "\n",
    "#Dividimos las probabilidades\n",
    "\n",
    "proba_merc = len(mercedes) / len(marcas)\n",
    "\n",
    "#Imprimimos\n",
    "\n",
    "print(\"La probabilidad de que gane un auto con más de 240 caballos de fuerza es de \"+ '{0:.2%}'.format(proba_merc))"
   ]
  },
  {
   "cell_type": "code",
   "execution_count": null,
   "metadata": {},
   "outputs": [],
   "source": []
  }
 ],
 "metadata": {
  "kernelspec": {
   "display_name": "Python 3",
   "language": "python",
   "name": "python3"
  },
  "language_info": {
   "codemirror_mode": {
    "name": "ipython",
    "version": 3
   },
   "file_extension": ".py",
   "mimetype": "text/x-python",
   "name": "python",
   "nbconvert_exporter": "python",
   "pygments_lexer": "ipython3",
   "version": "3.7.3"
  }
 },
 "nbformat": 4,
 "nbformat_minor": 2
}
